{
 "cells": [
  {
   "cell_type": "markdown",
   "metadata": {},
   "source": [
    "#### 자연어 처리를 위한 전처리\n",
    "-토큰화(Tokenizer) : 의미를 가진 최소 단위로 나누는 작업  \n",
    "    *단어 토큰화  \n",
    "    *문장 토큰화  \n",
    "    *바이트 토큰화  "
   ]
  },
  {
   "cell_type": "markdown",
   "metadata": {},
   "source": [
    "[1] 모듈 로딩 및 데이터 준비 <hr>"
   ]
  },
  {
   "cell_type": "code",
   "execution_count": 1,
   "metadata": {},
   "outputs": [],
   "source": [
    "from nltk.tokenize import word_tokenize, sent_tokenize, wordpunct_tokenize"
   ]
  },
  {
   "cell_type": "code",
   "execution_count": 3,
   "metadata": {},
   "outputs": [
    {
     "name": "stdout",
     "output_type": "stream",
     "text": [
      "['we', \"'re\", 'Good', 'Luck', '!', 'Happy', 'New', 'Year', '2025.', '!']\n"
     ]
    }
   ],
   "source": [
    "### 임시데이터\n",
    "text = \"we're Good Luck! Happy New Year 2025.!\"\n",
    "res = word_tokenize(text)\n",
    "print(res)"
   ]
  },
  {
   "cell_type": "code",
   "execution_count": 4,
   "metadata": {},
   "outputs": [
    {
     "name": "stdout",
     "output_type": "stream",
     "text": [
      "[\"we're Good Luck!\", 'Happy New Year 2025.!']\n"
     ]
    }
   ],
   "source": [
    "res2 = sent_tokenize(text)\n",
    "print(res2)"
   ]
  },
  {
   "cell_type": "code",
   "execution_count": 5,
   "metadata": {},
   "outputs": [
    {
     "name": "stdout",
     "output_type": "stream",
     "text": [
      "['we', \"'\", 're', 'Good', 'Luck', '!', 'Happy', 'New', 'Year', '2025', '.!']\n"
     ]
    }
   ],
   "source": [
    "res3 = wordpunct_tokenize(text)\n",
    "print(res3)"
   ]
  },
  {
   "cell_type": "markdown",
   "metadata": {},
   "source": [
    "[2] 품사 태깅 <hr>"
   ]
  },
  {
   "cell_type": "code",
   "execution_count": 6,
   "metadata": {},
   "outputs": [
    {
     "name": "stdout",
     "output_type": "stream",
     "text": [
      "['The', 'Matrix', 'is', 'everywhere', 'its', 'all', 'around', 'us', ',', 'here', 'even', 'in', 'this', 'room', '.', 'You', 'can', 'see', 'it', 'out', 'your', 'window', 'or', 'on', 'your', 'television', '.', 'result', '=', 'sent_tokenize', '(', 'text', ')']\n"
     ]
    }
   ],
   "source": [
    "from nltk.tag import pos_tag\n",
    "\n",
    "text = 'The Matrix is everywhere its all around us, here even in this room. \\\n",
    " You can see it out your window or on your television. \\\n",
    " result = sent_tokenize( text )'\n",
    "\n",
    "res4 = word_tokenize(text)\n",
    "print(res4)"
   ]
  },
  {
   "cell_type": "code",
   "execution_count": 7,
   "metadata": {},
   "outputs": [
    {
     "data": {
      "text/plain": [
       "[('The', 'DT'),\n",
       " ('Matrix', 'NNP'),\n",
       " ('is', 'VBZ'),\n",
       " ('everywhere', 'RB'),\n",
       " ('its', 'PRP$'),\n",
       " ('all', 'DT'),\n",
       " ('around', 'IN'),\n",
       " ('us', 'PRP'),\n",
       " (',', ','),\n",
       " ('here', 'RB'),\n",
       " ('even', 'RB'),\n",
       " ('in', 'IN'),\n",
       " ('this', 'DT'),\n",
       " ('room', 'NN'),\n",
       " ('.', '.'),\n",
       " ('You', 'PRP'),\n",
       " ('can', 'MD'),\n",
       " ('see', 'VB'),\n",
       " ('it', 'PRP'),\n",
       " ('out', 'RP'),\n",
       " ('your', 'PRP$'),\n",
       " ('window', 'NN'),\n",
       " ('or', 'CC'),\n",
       " ('on', 'IN'),\n",
       " ('your', 'PRP$'),\n",
       " ('television', 'NN'),\n",
       " ('.', '.'),\n",
       " ('result', 'NN'),\n",
       " ('=', 'JJ'),\n",
       " ('sent_tokenize', 'NN'),\n",
       " ('(', '('),\n",
       " ('text', 'NN'),\n",
       " (')', ')')]"
      ]
     },
     "execution_count": 7,
     "metadata": {},
     "output_type": "execute_result"
    }
   ],
   "source": [
    "pos_tag(res4)"
   ]
  },
  {
   "cell_type": "markdown",
   "metadata": {},
   "source": [
    "[3] 어간추출 <hr>"
   ]
  },
  {
   "cell_type": "code",
   "execution_count": 9,
   "metadata": {},
   "outputs": [],
   "source": [
    "### 단어사전에 존재하는 어간으로 추출 즉, 표제어 추출\n",
    "from nltk.stem import WordNetLemmatizer\n",
    "words = ['policy', 'doing', 'organization', 'have', 'going', 'love', 'lives', 'fly', 'dies', 'watched', 'has','starting']"
   ]
  },
  {
   "cell_type": "code",
   "execution_count": 12,
   "metadata": {},
   "outputs": [
    {
     "data": {
      "text/plain": [
       "['policy',\n",
       " 'doing',\n",
       " 'organization',\n",
       " 'have',\n",
       " 'going',\n",
       " 'love',\n",
       " 'life',\n",
       " 'fly',\n",
       " 'dy',\n",
       " 'watched',\n",
       " 'ha',\n",
       " 'starting']"
      ]
     },
     "execution_count": 12,
     "metadata": {},
     "output_type": "execute_result"
    }
   ],
   "source": [
    "# 표제어 추출\n",
    "[WordNetLemmatizer().lemmatize(w) for w in words]"
   ]
  },
  {
   "cell_type": "code",
   "execution_count": 14,
   "metadata": {},
   "outputs": [
    {
     "data": {
      "text/plain": [
       "['policy',\n",
       " 'do',\n",
       " 'organization',\n",
       " 'have',\n",
       " 'go',\n",
       " 'love',\n",
       " 'live',\n",
       " 'fly',\n",
       " 'die',\n",
       " 'watch',\n",
       " 'have',\n",
       " 'start']"
      ]
     },
     "execution_count": 14,
     "metadata": {},
     "output_type": "execute_result"
    }
   ],
   "source": [
    "[WordNetLemmatizer().lemmatize(w, pos='v') for w in words]"
   ]
  },
  {
   "cell_type": "code",
   "execution_count": 18,
   "metadata": {},
   "outputs": [
    {
     "data": {
      "text/plain": [
       "['polici',\n",
       " 'do',\n",
       " 'organ',\n",
       " 'have',\n",
       " 'go',\n",
       " 'love',\n",
       " 'live',\n",
       " 'fli',\n",
       " 'die',\n",
       " 'watch',\n",
       " 'ha',\n",
       " 'start']"
      ]
     },
     "execution_count": 18,
     "metadata": {},
     "output_type": "execute_result"
    }
   ],
   "source": [
    "### 단어사전에 존재하지 않을 수 있는 억나으로 추출\n",
    "### 단어의 형태학적 측면에서 어간 추출하는 방식\n",
    "\n",
    "from nltk.stem import PorterStemmer, LancasterStemmer\n",
    "\n",
    "# Porter 알고리즘 기반 형택적 측면 어간 추출\n",
    "[PorterStemmer().stem(w) for w in words]\n"
   ]
  },
  {
   "cell_type": "code",
   "execution_count": 20,
   "metadata": {},
   "outputs": [
    {
     "name": "stdout",
     "output_type": "stream",
     "text": [
      "policy doing org hav going lov liv fly die watch has start "
     ]
    }
   ],
   "source": [
    "for _ in [LancasterStemmer().stem(w) for w in words] : print(_, end=' ')"
   ]
  },
  {
   "cell_type": "code",
   "execution_count": null,
   "metadata": {},
   "outputs": [],
   "source": []
  }
 ],
 "metadata": {
  "kernelspec": {
   "display_name": "TEXT_018_230_38",
   "language": "python",
   "name": "python3"
  },
  "language_info": {
   "codemirror_mode": {
    "name": "ipython",
    "version": 3
   },
   "file_extension": ".py",
   "mimetype": "text/x-python",
   "name": "python",
   "nbconvert_exporter": "python",
   "pygments_lexer": "ipython3",
   "version": "3.8.19"
  }
 },
 "nbformat": 4,
 "nbformat_minor": 2
}
