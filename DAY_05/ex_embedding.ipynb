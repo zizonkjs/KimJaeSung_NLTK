{
 "cells": [
  {
   "cell_type": "code",
   "execution_count": 2,
   "metadata": {},
   "outputs": [
    {
     "name": "stdout",
     "output_type": "stream",
     "text": [
      "{'to': 2, 'code': 3, 'need': 4, 'you': 5, 'how': 6, 'know': 7, 'pad': 0, 'unk': 1}\n"
     ]
    }
   ],
   "source": [
    "train_data = 'you need to know how to code'\n",
    "\n",
    "word_set = set(train_data.split())\n",
    "\n",
    "vocab = {word: i+2 for i, word in enumerate(word_set)}\n",
    "vocab['pad'] = 0\n",
    "vocab['unk'] = 1\n",
    "\n",
    "print(vocab)"
   ]
  },
  {
   "cell_type": "code",
   "execution_count": 19,
   "metadata": {},
   "outputs": [],
   "source": [
    "import torch \n",
    "import torch.nn as nn"
   ]
  },
  {
   "cell_type": "code",
   "execution_count": 15,
   "metadata": {},
   "outputs": [],
   "source": [
    "embedding_table = torch.FloatTensor([[0.0,0.0,0.0],\n",
    "                                     [0.0,0.0,0.0],\n",
    "                                     [0.2,0.9,0.3],\n",
    "                                     [0.1,0.5,0.7],\n",
    "                                     [0.2,0.1,0.8],\n",
    "                                     [0.4,0.1,0.1],\n",
    "                                     [0.1,0.8,0.9],\n",
    "                                     [0.6,0.1,0.1]])"
   ]
  },
  {
   "cell_type": "code",
   "execution_count": 17,
   "metadata": {},
   "outputs": [
    {
     "name": "stdout",
     "output_type": "stream",
     "text": [
      "idxes : tensor([5, 4, 2, 1])\n",
      "tensor([[0.4000, 0.1000, 0.1000],\n",
      "        [0.2000, 0.1000, 0.8000],\n",
      "        [0.2000, 0.9000, 0.3000],\n",
      "        [0.0000, 0.0000, 0.0000]])\n"
     ]
    }
   ],
   "source": [
    "sample = 'you need to run'.split()\n",
    "idxes = []\n",
    "\n",
    "# 각 단어를 정수로 변환\n",
    "for word in sample:\n",
    "    try:\n",
    "        idxes.append(vocab[word])\n",
    "    except KeyError:\n",
    "        idxes.append(vocab['unk'])\n",
    "\n",
    "idxes = torch.LongTensor(idxes)\n",
    "print(f'idxes : {idxes}')\n",
    "\n",
    "lookup_result = embedding_table[idxes, :]\n",
    "print(lookup_result)\n",
    "\n"
   ]
  },
  {
   "cell_type": "code",
   "execution_count": 21,
   "metadata": {},
   "outputs": [],
   "source": [
    "embedding_layer = nn.Embedding(num_embeddings=len(vocab),\n",
    "                               embedding_dim=3,\n",
    "                               padding_idx=0)\n"
   ]
  },
  {
   "cell_type": "code",
   "execution_count": 23,
   "metadata": {},
   "outputs": [
    {
     "name": "stdout",
     "output_type": "stream",
     "text": [
      "Parameter containing:\n",
      "tensor([[ 0.0000,  0.0000,  0.0000],\n",
      "        [ 0.5440, -0.7443,  1.3744],\n",
      "        [ 0.0456,  1.1960, -0.0839],\n",
      "        [-0.9144, -0.8692,  0.7673],\n",
      "        [-1.1232, -1.1327, -0.7747],\n",
      "        [ 1.3491,  0.7344, -0.9529],\n",
      "        [ 0.3422,  0.7388,  1.6457],\n",
      "        [ 0.2976,  1.1203, -0.4614]], requires_grad=True)\n"
     ]
    }
   ],
   "source": [
    "print(embedding_layer.weight)"
   ]
  }
 ],
 "metadata": {
  "kernelspec": {
   "display_name": "TEXT_018_230_38",
   "language": "python",
   "name": "python3"
  },
  "language_info": {
   "codemirror_mode": {
    "name": "ipython",
    "version": 3
   },
   "file_extension": ".py",
   "mimetype": "text/x-python",
   "name": "python",
   "nbconvert_exporter": "python",
   "pygments_lexer": "ipython3",
   "version": "3.8.19"
  }
 },
 "nbformat": 4,
 "nbformat_minor": 2
}
