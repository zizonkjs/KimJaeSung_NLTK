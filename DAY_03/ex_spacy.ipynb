{
 "cells": [
  {
   "cell_type": "markdown",
   "metadata": {},
   "source": [
    "#### 한국어 형태소 분석기 Spacy\n",
    "-빠른 속도와 정확도가 높은 형태소 분석기  \n",
    "- 설치 2단계  \n",
    "    * 형태소 분석기 설치  \n",
    "    * 언어별 모델 설치"
   ]
  },
  {
   "cell_type": "code",
   "execution_count": 11,
   "metadata": {},
   "outputs": [],
   "source": [
    "## 모듈 로딩\n",
    "import spacy"
   ]
  },
  {
   "cell_type": "code",
   "execution_count": 12,
   "metadata": {},
   "outputs": [],
   "source": [
    "#### 한국어 모델 설정\n",
    "LANG_MODEL = 'ko_core_news_sm'\n"
   ]
  },
  {
   "cell_type": "code",
   "execution_count": 13,
   "metadata": {},
   "outputs": [],
   "source": [
    "# 한국어 분석기 생성\n",
    "nlp = spacy.load(LANG_MODEL)\n"
   ]
  },
  {
   "cell_type": "code",
   "execution_count": 14,
   "metadata": {},
   "outputs": [
    {
     "name": "stdout",
     "output_type": "stream",
     "text": [
      "[doc]\n",
      "일만 하고 놀지 않으면 바보가 된다.\n"
     ]
    }
   ],
   "source": [
    "text = \"일만 하고 놀지 않으면 바보가 된다.\"\n",
    "doc = nlp(text)\n",
    "\n",
    "print(f'[doc]\\n{doc}')"
   ]
  },
  {
   "cell_type": "code",
   "execution_count": 15,
   "metadata": {},
   "outputs": [
    {
     "name": "stdout",
     "output_type": "stream",
     "text": [
      "일만      일+만       ADV     ncpa+jxc  False\n",
      "하고      하+고       CCONJ   pvg+ecc  False\n",
      "놀지      놀+지       VERB    pvg+ecx  False\n",
      "않으면     않+으면      SCONJ   px+ecs  False\n",
      "바보가     바보+가      VERB    pvg+ecx  False\n",
      "된다      되+ㄴ다      AUX     px+ef   False\n",
      ".       .         PUNCT   sf      False\n"
     ]
    }
   ],
   "source": [
    "for token in doc:\n",
    "    print(f'{token.text:6}  {token.lemma_:6}    {token.pos_:6}  {token.tag_:6}  {token.is_stop}')"
   ]
  },
  {
   "cell_type": "code",
   "execution_count": 31,
   "metadata": {},
   "outputs": [
    {
     "name": "stdout",
     "output_type": "stream",
     "text": [
      "일만\n",
      "일+만\n",
      "ADV\n",
      "ncpa+jxc\n",
      "False\n",
      "False\n",
      "\n",
      "하고\n",
      "하+고\n",
      "CCONJ\n",
      "pvg+ecc\n",
      "False\n",
      "False\n",
      "\n",
      "놀지\n",
      "놀+지\n",
      "VERB\n",
      "pvg+ecx\n",
      "False\n",
      "False\n",
      "\n",
      "않으면\n",
      "않+으면\n",
      "SCONJ\n",
      "px+ecs\n",
      "False\n",
      "False\n",
      "\n",
      "바보가\n",
      "바보+가\n",
      "VERB\n",
      "pvg+ecx\n",
      "False\n",
      "False\n",
      "\n",
      "된다\n",
      "되+ㄴ다\n",
      "AUX\n",
      "px+ef\n",
      "False\n",
      "False\n",
      "\n",
      ".\n",
      ".\n",
      "PUNCT\n",
      "sf\n",
      "False\n",
      "True\n",
      "\n"
     ]
    }
   ],
   "source": [
    "my_tokens=[]\n",
    "for token in doc:\n",
    "    print(token.text)     # 토크에 저장된 텍스트 속성\n",
    "    print(token.lemma_)   # 토큰의 표제어 속성\n",
    "    print(token.pos_)     # 토큰의 품사 속성\n",
    "    print(token.tag_)     # 토큰의 상세품사 속성\n",
    "    print(token.is_stop)  # 토큰의 불용어 여부 속성\n",
    "    print(token.is_punct) # 토큰의 구두점 여부 속성\n",
    "    print()\n",
    "    if (not token.is_punct) or (not token.is_stop):\n",
    "        my_tokens.append(token)"
   ]
  },
  {
   "cell_type": "code",
   "execution_count": 32,
   "metadata": {},
   "outputs": [
    {
     "data": {
      "text/plain": [
       "[일만, 하고, 놀지, 않으면, 바보가, 된다, .]"
      ]
     },
     "execution_count": 32,
     "metadata": {},
     "output_type": "execute_result"
    }
   ],
   "source": [
    "my_tokens"
   ]
  },
  {
   "cell_type": "code",
   "execution_count": null,
   "metadata": {},
   "outputs": [],
   "source": []
  }
 ],
 "metadata": {
  "kernelspec": {
   "display_name": "TEXT_018_230_38",
   "language": "python",
   "name": "python3"
  },
  "language_info": {
   "codemirror_mode": {
    "name": "ipython",
    "version": 3
   },
   "file_extension": ".py",
   "mimetype": "text/x-python",
   "name": "python",
   "nbconvert_exporter": "python",
   "pygments_lexer": "ipython3",
   "version": "3.8.19"
  }
 },
 "nbformat": 4,
 "nbformat_minor": 2
}
