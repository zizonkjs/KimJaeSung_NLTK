{
 "cells": [
  {
   "cell_type": "code",
   "execution_count": 3,
   "metadata": {},
   "outputs": [],
   "source": [
    "from konlpy.tag import *\n",
    "from konlpy.corpus import kolaw"
   ]
  },
  {
   "cell_type": "code",
   "execution_count": 5,
   "metadata": {},
   "outputs": [],
   "source": [
    "hannaum= Hannanum()\n",
    "\n",
    "text = '크리스마스가 이제 3달 남아있군. 오늘 날씨가 화창하니 너무 좋다!'"
   ]
  },
  {
   "cell_type": "code",
   "execution_count": 11,
   "metadata": {},
   "outputs": [
    {
     "name": "stdout",
     "output_type": "stream",
     "text": [
      "['크리스마스', '가', '이제', '3달', '남', '아', '있', '군', '.', '오늘', '날씨', '가', '화창', '하', '니', '너무', '좋', '다', '!']\n",
      "[('크리스마스', 'N'), ('가', 'J'), ('이제', 'M'), ('3달', 'N'), ('남', 'P'), ('아', 'E'), ('있', 'P'), ('군', 'E'), ('.', 'S'), ('오늘', 'N'), ('날씨', 'N'), ('가', 'J'), ('화창', 'N'), ('하', 'X'), ('니', 'E'), ('너무', 'M'), ('좋', 'P'), ('다', 'E'), ('!', 'S')]\n",
      "['크리스마스', '3달', '오늘', '날씨', '화창']\n"
     ]
    }
   ],
   "source": [
    "print(hannaum.morphs(text))\n",
    "print(hannaum.pos(text))\n",
    "print(hannaum.nouns(text))\n"
   ]
  },
  {
   "cell_type": "code",
   "execution_count": 12,
   "metadata": {},
   "outputs": [
    {
     "name": "stdout",
     "output_type": "stream",
     "text": [
      "['크리스마스', '가', '이제', '3', '달', '남아있군', '.', '오늘', '날씨', '가', '화창하니', '너무', '좋다', '!']\n",
      "[('크리스마스', 'Noun'), ('가', 'Josa'), ('이제', 'Noun'), ('3', 'Number'), ('달', 'Noun'), ('남아있군', 'Verb'), ('.', 'Punctuation'), ('오늘', 'Noun'), ('날씨', 'Noun'), ('가', 'Josa'), ('화창하니', 'Adjective'), ('너무', 'Adverb'), ('좋다', 'Adjective'), ('!', 'Punctuation')]\n",
      "['크리스마스', '이제', '달', '오늘', '날씨']\n"
     ]
    }
   ],
   "source": [
    "### OKT 형태소 분석기\n",
    "okt = Okt()\n",
    "\n",
    "print(okt.morphs(text))\n",
    "print(okt.pos(text))\n",
    "print(okt.nouns(text))"
   ]
  },
  {
   "cell_type": "code",
   "execution_count": null,
   "metadata": {},
   "outputs": [],
   "source": []
  }
 ],
 "metadata": {
  "kernelspec": {
   "display_name": "TEXT_018_230_38",
   "language": "python",
   "name": "python3"
  },
  "language_info": {
   "codemirror_mode": {
    "name": "ipython",
    "version": 3
   },
   "file_extension": ".py",
   "mimetype": "text/x-python",
   "name": "python",
   "nbconvert_exporter": "python",
   "pygments_lexer": "ipython3",
   "version": "3.8.19"
  }
 },
 "nbformat": 4,
 "nbformat_minor": 2
}
